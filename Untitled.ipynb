{
 "cells": [
  {
   "cell_type": "code",
   "execution_count": 1,
   "id": "3e45ca62",
   "metadata": {},
   "outputs": [],
   "source": [
    "import cv2"
   ]
  },
  {
   "cell_type": "markdown",
   "id": "8642cfe6",
   "metadata": {},
   "source": [
    "1. Load Image \n",
    "Membaca suatu file citra"
   ]
  },
  {
   "cell_type": "code",
   "execution_count": null,
   "id": "977f367b",
   "metadata": {},
   "outputs": [],
   "source": []
  }
 ],
 "metadata": {
  "kernelspec": {
   "display_name": "Python 3",
   "language": "python",
   "name": "python3"
  },
  "language_info": {
   "codemirror_mode": {
    "name": "ipython",
    "version": 3
   },
   "file_extension": ".py",
   "mimetype": "text/x-python",
   "name": "python",
   "nbconvert_exporter": "python",
   "pygments_lexer": "ipython3",
   "version": "3.8.8"
  }
 },
 "nbformat": 4,
 "nbformat_minor": 5
}
